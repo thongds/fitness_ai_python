{
 "cells": [
  {
   "cell_type": "markdown",
   "id": "b2c6c36c",
   "metadata": {},
   "source": [
    "### Import module"
   ]
  },
  {
   "cell_type": "code",
   "execution_count": 1,
   "id": "ea9352df",
   "metadata": {},
   "outputs": [],
   "source": [
    "import numpy as np\n",
    "from ultralytics import YOLO\n",
    "import cv2"
   ]
  },
  {
   "cell_type": "markdown",
   "id": "bcdf2402",
   "metadata": {},
   "source": [
    "### Config Constant"
   ]
  },
  {
   "cell_type": "code",
   "execution_count": 2,
   "id": "dddef5e8",
   "metadata": {},
   "outputs": [],
   "source": [
    "accept_angle_threshold = 90\n",
    "count = 0\n",
    "in_up_position = False\n",
    "in_down_position = False"
   ]
  },
  {
   "cell_type": "code",
   "execution_count": 3,
   "id": "b43e2bb4",
   "metadata": {},
   "outputs": [],
   "source": [
    "def calculate_angle(shoulder_point, elbow_point, wrist_point):\n",
    "    shoulder = np.array(shoulder_point)\n",
    "    elbow = np.array(elbow_point)\n",
    "    wrist = np.array(wrist_point)\n",
    "    \n",
    "    elbow_to_shoulder_vector = shoulder - elbow\n",
    "    elbow_to_wrist_vector = wrist - elbow\n",
    "\n",
    "    cos_angle = np.dot(elbow_to_shoulder_vector, elbow_to_wrist_vector) / (np.linalg.norm(elbow_to_shoulder_vector) * np.linalg.norm(elbow_to_wrist_vector))\n",
    "    cos_angle = np.clip(cos_angle, -1.0, 1.0)\n",
    "    angle = np.arccos(cos_angle)\n",
    "    angle_degrees = np.degrees(angle)\n",
    "    return angle_degrees"
   ]
  },
  {
   "cell_type": "code",
   "execution_count": null,
   "id": "a6253bfa",
   "metadata": {},
   "outputs": [],
   "source": [
    "model = YOLO('yolo11n-pose.pt')\n",
    "# predict with the model\n",
    "results = model.predict(source='90.png', show=True)\n",
    "\n",
    "for result in results:\n",
    "    if result.keypoints is not None:\n",
    "        keypoints = result.keypoints.xy[0]\n",
    "        if len(keypoints) > 9:\n",
    "            left_elbow_point = keypoints[7]\n",
    "            left_shoulder_point = keypoints[5]\n",
    "            left_wrist_point = keypoints[9]\n",
    "            left_angle_hand = calculate_angle(left_shoulder_point, left_elbow_point, left_wrist_point)\n",
    "            print('Left Elbow Coordinates:', left_angle_hand)\n",
    "            if left_angle_hand <= accept_angle_threshold:\n",
    "                in_down_position = True\n",
    "            else:\n",
    "                in_up_position = True\n",
    "        if len(keypoints) > 10:\n",
    "            right_elbow_point = keypoints[8]\n",
    "            right_shoulder_point = keypoints[6]\n",
    "            right_wrist_point = keypoints[10]\n",
    "            right_angle_hand = calculate_angle(right_shoulder_point, right_elbow_point, right_wrist_point)\n",
    "            print('Right Elbow Coordinates:', right_angle_hand)\n",
    "            if right_angle_hand <= accept_angle_threshold:\n",
    "                in_down_position = True\n",
    "            else:\n",
    "                in_up_position = True\n",
    "    if in_down_position and in_up_position:\n",
    "        count += 1\n",
    "        in_down_position = False\n",
    "        in_up_position = False\n",
    "        \n",
    "print('Total Count:', count/2)\n"
   ]
  }
 ],
 "metadata": {
  "kernelspec": {
   "display_name": ".conda",
   "language": "python",
   "name": "python3"
  },
  "language_info": {
   "codemirror_mode": {
    "name": "ipython",
    "version": 3
   },
   "file_extension": ".py",
   "mimetype": "text/x-python",
   "name": "python",
   "nbconvert_exporter": "python",
   "pygments_lexer": "ipython3",
   "version": "3.11.11"
  }
 },
 "nbformat": 4,
 "nbformat_minor": 5
}
